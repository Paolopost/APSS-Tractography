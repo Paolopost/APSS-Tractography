{
 "cells": [
  {
   "cell_type": "code",
   "execution_count": 98,
   "metadata": {},
   "outputs": [],
   "source": [
    "import os\n",
    "import glob\n",
    "import numpy as np\n",
    "import nibabel as nib"
   ]
  },
  {
   "cell_type": "markdown",
   "metadata": {},
   "source": [
    "Selection of Subject"
   ]
  },
  {
   "cell_type": "code",
   "execution_count": 295,
   "metadata": {},
   "outputs": [],
   "source": [
    "SUB = \"Subject_42_AmMa\"\n",
    "ID = \"01\""
   ]
  },
  {
   "cell_type": "code",
   "execution_count": 111,
   "metadata": {},
   "outputs": [],
   "source": [
    "SUB = \"Subject_53_MazLo\"\n",
    "ID = \"02\""
   ]
  },
  {
   "cell_type": "code",
   "execution_count": 31,
   "metadata": {},
   "outputs": [],
   "source": [
    "SUB = \"Subject_21_CoNi\"\n",
    "ID = \"03\""
   ]
  },
  {
   "cell_type": "markdown",
   "metadata": {},
   "source": [
    "Configuration Filenames"
   ]
  },
  {
   "cell_type": "code",
   "execution_count": 296,
   "metadata": {},
   "outputs": [],
   "source": [
    "src = \"/Users/paolo/Datasets/APSS-ConnectBrain-2019/original\"\n",
    "out = \"/Users/paolo/Datasets/APSS-ConnectBrain-2019\"\n",
    "\n",
    "dir = \"%s/sub-%s\" % (out, ID)\n",
    "\n",
    "nii_struct = dir + '/Niftii/Structural'\n",
    "nii_diff = dir + '/Niftii/Diffusion/Preprocess'\n",
    "\n",
    "trk_diss = dir + '/TRK/Dissection'\n",
    "trk_diss_trackvis = dir + '/TRK/Dissection/TrackVis'\n",
    "trk_tract = dir + '/TRK/Tractography'\n",
    "trk_roi = dir + '/TRK/ROI'"
   ]
  },
  {
   "cell_type": "code",
   "execution_count": 146,
   "metadata": {},
   "outputs": [],
   "source": [
    "!mkdir -p {nii_struct}\n",
    "!mkdir -p {nii_diff}\n",
    "\n",
    "!mkdir -p {trk_diss}\n",
    "!mkdir -p {trk_diss_trackvis}\n",
    "!mkdir -p {trk_tract}\n",
    "!mkdir -p {trk_roi}"
   ]
  },
  {
   "cell_type": "markdown",
   "metadata": {},
   "source": [
    "Convert subject naming"
   ]
  },
  {
   "cell_type": "code",
   "execution_count": 147,
   "metadata": {},
   "outputs": [],
   "source": [
    "import os"
   ]
  },
  {
   "cell_type": "code",
   "execution_count": 148,
   "metadata": {},
   "outputs": [],
   "source": [
    "all_src = '/Users/paolo/Datasets/APSS-ConnectBrain-2019/sub-%s' % ID\n",
    "sub_old = SUB\n",
    "sub_new = 'sub-%s' % ID"
   ]
  },
  {
   "cell_type": "code",
   "execution_count": 149,
   "metadata": {},
   "outputs": [],
   "source": [
    "for s in os.walk(all_src):\n",
    "    for f in s[2]:\n",
    "        f_src = os.path.join(s[0], f)\n",
    "        f_out = f_src.replace(sub_old, sub_new)\n",
    "        os.rename(f_src, f_out)"
   ]
  },
  {
   "cell_type": "markdown",
   "metadata": {},
   "source": [
    "Fix path Trackvis Scene"
   ]
  },
  {
   "cell_type": "code",
   "execution_count": 291,
   "metadata": {},
   "outputs": [],
   "source": [
    "scene_src = src\n",
    "scene_out = out"
   ]
  },
  {
   "cell_type": "code",
   "execution_count": 292,
   "metadata": {},
   "outputs": [],
   "source": [
    "scene_dic = {'01': ('All_DTI', 'All_CSD_and_FAT', 'PT_CSD'),\n",
    "            '02': ('All_1',),\n",
    "            '03': ('All',)}"
   ]
  },
  {
   "cell_type": "code",
   "execution_count": 293,
   "metadata": {},
   "outputs": [],
   "source": [
    "dir_old = '/Users/SS/Documents/Tractome_Data/%s' % SUB\n",
    "dir_new = '%s/sub-%s' % (out, ID)\n",
    "sub_old = SUB\n",
    "sub_new = 'sub-%s' % ID\n",
    "all_scene = scene_dic[ID]"
   ]
  },
  {
   "cell_type": "code",
   "execution_count": 294,
   "metadata": {},
   "outputs": [],
   "source": [
    "for scene in all_scene:\n",
    "    scene_old = scene_src + '/' + sub_new + '/TRK/Dissection/TrackVis/' + scene + '.scene'\n",
    "    scene_new = scene_out + '/' + sub_new + '/TRK/Dissection/TrackVis/' + scene + '.scene'\n",
    "    with open(scene_old, \"rt\") as fin:\n",
    "        with open(scene_new, \"wt+\") as fout:\n",
    "            for line in fin:\n",
    "                line = line.replace(dir_old, dir_new)\n",
    "                line = line.replace(sub_old, sub_new)\n",
    "                fout.write(line)"
   ]
  },
  {
   "cell_type": "markdown",
   "metadata": {},
   "source": [
    "Copy files"
   ]
  },
  {
   "cell_type": "code",
   "execution_count": 154,
   "metadata": {},
   "outputs": [],
   "source": [
    "import os, glob, shutil"
   ]
  },
  {
   "cell_type": "code",
   "execution_count": 155,
   "metadata": {},
   "outputs": [
    {
     "data": {
      "text/plain": [
       "'/Users/paolo/Datasets/APSS-ConnectBrain-2019/fixed_sub/sub-01/Niftii/Structural/sub-01_flirt.nii.gz'"
      ]
     },
     "execution_count": 155,
     "metadata": {},
     "output_type": "execute_result"
    }
   ],
   "source": [
    "T1_flirt_src = \"%s/sub-%s/Niftii/Structural/sub-%s_flirt.nii.gz\" % (src, ID, ID)\n",
    "T1_flirt_out = \"%s/sub-%s/Niftii/Structural/sub-%s_flirt.nii.gz\" % (out, ID, ID)\n",
    "shutil.copy(T1_flirt_src, T1_flirt_out)"
   ]
  },
  {
   "cell_type": "code",
   "execution_count": 156,
   "metadata": {},
   "outputs": [
    {
     "data": {
      "text/plain": [
       "'/Users/paolo/Datasets/APSS-ConnectBrain-2019/fixed_sub/sub-01/Niftii/Diffusion/sub-01.bvec'"
      ]
     },
     "execution_count": 156,
     "metadata": {},
     "output_type": "execute_result"
    }
   ],
   "source": [
    "dwi_src = \"%s/sub-%s/Niftii/Diffusion/sub-%s_iso.nii.gz\" % (src, ID, ID)\n",
    "dwi_out = \"%s/sub-%s/Niftii/Diffusion/sub-%s_iso.nii.gz\" % (out, ID, ID)\n",
    "shutil.copy(dwi_src, dwi_out)\n",
    "\n",
    "bval_src = \"%s/sub-%s/Niftii/Diffusion/sub-%s.bval\" % (src, ID, ID)\n",
    "bval_out = \"%s/sub-%s/Niftii/Diffusion/sub-%s.bval\" % (out, ID, ID)\n",
    "shutil.copy(bval_src, bval_out)\n",
    "\n",
    "bvec_src = \"%s/sub-%s/Niftii/Diffusion/sub-%s.bvec\" % (src, ID, ID)\n",
    "bvec_out = \"%s/sub-%s/Niftii/Diffusion/sub-%s.bvec\" % (out, ID, ID)\n",
    "shutil.copy(bvec_src, bvec_out)"
   ]
  },
  {
   "cell_type": "code",
   "execution_count": 157,
   "metadata": {},
   "outputs": [],
   "source": [
    "roi_src = \"%s/sub-%s/TRK/ROI/*\" % (src, ID)\n",
    "for roi_old in glob.glob(roi_src):\n",
    "    roi_new = \"%s/sub-%s/TRK/ROI/%s\" % (out, ID, os.path.basename(roi_old))\n",
    "    shutil.copy(roi, roi_new)"
   ]
  },
  {
   "cell_type": "code",
   "execution_count": 158,
   "metadata": {},
   "outputs": [],
   "source": [
    "roi_src = \"%s/sub-%s/TRK/Dissection/TrackVis/*.nii\" % (src, ID)\n",
    "for roi_old in glob.glob(roi_src):\n",
    "    roi_new = \"%s/sub-%s/TRK/Dissection/TrackVis/%s\" % (out, ID, os.path.basename(roi_old))\n",
    "    shutil.copy(roi, roi_new)"
   ]
  },
  {
   "cell_type": "markdown",
   "metadata": {},
   "source": [
    "Fix Diffusion Mask"
   ]
  },
  {
   "cell_type": "code",
   "execution_count": 159,
   "metadata": {},
   "outputs": [],
   "source": [
    "dwi_mask_src = \"%s/sub-%s/Niftii/Diffusion/Preprocess/sub-%s_iso_mask.nii.gz\" % (src, ID, ID)\n",
    "dwi_mask_out = \"%s/sub-%s/Niftii/Diffusion/Preprocess/sub-%s_iso_mask.nii.gz\" % (out, ID, ID)"
   ]
  },
  {
   "cell_type": "code",
   "execution_count": 160,
   "metadata": {},
   "outputs": [
    {
     "name": "stdout",
     "output_type": "stream",
     "text": [
      "maskfilter: \u001b[00;31m[WARNING] existing output files will be overwritten\u001b[0m\n",
      "maskfilter: [100%] uncompressing image \"/Users/paolo/Datasets/APSS-ConnectBrain-2019/sub-01/Niftii/Diffusion/Preprocess/sub-01_iso_mask.nii.gz\"\u001b[0K\u001b[0K\n",
      "maskfilter: [100%] applying erode filter to image sub-01_iso_mask.nii.gz\u001b[0K\u001b[0K\n",
      "maskfilter: [100%] compressing image \"/Users/paolo/Datasets/APSS-ConnectBrain-2019/fixed_sub/sub-01/Niftii/Diffusion/Preprocess/sub-01_iso_mask.nii.gz\"\u001b[0K\u001b[0K\n"
     ]
    }
   ],
   "source": [
    "!maskfilter -force -npass 3 {dwi_mask_src} erode {dwi_mask_out}"
   ]
  },
  {
   "cell_type": "markdown",
   "metadata": {},
   "source": [
    "DTI Model Reconstruction"
   ]
  },
  {
   "cell_type": "code",
   "execution_count": 161,
   "metadata": {},
   "outputs": [],
   "source": [
    "dwi = \"%s/sub-%s/Niftii/Diffusion/sub-%s_iso.nii.gz\" % (out, ID, ID)\n",
    "bval = \"%s/sub-%s/Niftii/Diffusion/sub-%s.bval\" % (out, ID, ID)\n",
    "bvec = \"%s/sub-%s/Niftii/Diffusion/sub-%s.bvec\" % (out, ID, ID)\n",
    "mask = \"%s/sub-%s/Niftii/Diffusion/Preprocess/sub-%s_iso_mask.nii.gz\" % (out, ID, ID)\n",
    "fa = \"%s/sub-%s/Niftii/Diffusion/sub-%s_FA.nii.gz\" % (out, ID, ID)\n",
    "cfa_dpy = \"%s/sub-%s/Niftii/Diffusion/sub-%s_Color_FA_dpy.nii.gz\" % (out, ID, ID)"
   ]
  },
  {
   "cell_type": "code",
   "execution_count": 162,
   "metadata": {},
   "outputs": [],
   "source": [
    "dti = '/Users/paolo/Software/miniconda3/pkgs/dipy-0.16.0-py37h917ab60_0/bin/dipy_fit_dti'"
   ]
  },
  {
   "cell_type": "code",
   "execution_count": 163,
   "metadata": {},
   "outputs": [
    {
     "name": "stdout",
     "output_type": "stream",
     "text": [
      "INFO:Computing DTI metrics for /Users/paolo/Datasets/APSS-ConnectBrain-2019/fixed_sub/sub-01/Niftii/Diffusion/sub-01_iso.nii.gz\n",
      "INFO:Tensor estimation...\n",
      "INFO:DTI metrics saved in current directory\n"
     ]
    }
   ],
   "source": [
    "!python {dti} --force --save_metrics 'fa' 'rgb' --out_fa {fa} --out_rgb {cfa_dpy}  {dwi} {bval} {bvec} {mask}"
   ]
  },
  {
   "cell_type": "markdown",
   "metadata": {},
   "source": [
    "CSD Model Reconstruction"
   ]
  },
  {
   "cell_type": "code",
   "execution_count": 164,
   "metadata": {},
   "outputs": [],
   "source": [
    "dwi = \"%s/sub-%s/Niftii/Diffusion/sub-%s_iso.nii.gz\" % (out, ID, ID)\n",
    "bval = \"%s/sub-%s/Niftii/Diffusion/sub-%s.bval\" % (out, ID, ID)\n",
    "bvec = \"%s/sub-%s/Niftii/Diffusion/sub-%s.bvec\" % (out, ID, ID)\n",
    "mask = \"%s/sub-%s/Niftii/Diffusion/Preprocess/sub-%s_iso_mask.nii.gz\" % (out, ID, ID)\n",
    "fa = \"%s/sub-%s/Niftii/Diffusion/sub-%s_FA.nii.gz\" % (out, ID, ID)\n",
    "pam = \"%s/sub-%s/Niftii/Diffusion/sub-%s_csd.pam5\" % (out, ID, ID)"
   ]
  },
  {
   "cell_type": "code",
   "execution_count": 165,
   "metadata": {},
   "outputs": [],
   "source": [
    "csd = '/Users/paolo/Software/miniconda3/pkgs/dipy-0.16.0-py37h917ab60_0/bin/dipy_fit_csd'"
   ]
  },
  {
   "cell_type": "code",
   "execution_count": 166,
   "metadata": {},
   "outputs": [
    {
     "name": "stdout",
     "output_type": "stream",
     "text": [
      "INFO:The following output files are about to be overwritten.\n",
      "INFO:shm.nii.gz\n",
      "INFO:peaks_indices.nii.gz\n",
      "INFO:gfa.nii.gz\n",
      "INFO:Loading /Users/paolo/Datasets/APSS-ConnectBrain-2019/fixed_sub/sub-01/Niftii/Diffusion/sub-01_iso.nii.gz\n",
      "50.0 0.0\n",
      "INFO:Computing response function\n",
      "INFO:Eigenvalues for the frf of the input data are :[0.00155052 0.00040763 0.00040763]\n",
      "INFO:Ratio for smallest to largest eigen value is 0.26290074600220675\n",
      "INFO:CSD computation started.\n",
      "INFO:CSD computation completed.\n",
      "INFO:Pam5 file saved in /Users/paolo/Datasets/APSS-ConnectBrain-2019/fixed_sub/sub-01/Niftii/Diffusion\n"
     ]
    }
   ],
   "source": [
    "!python {csd} --force --out_pam {pam} {dwi} {bval} {bvec} {mask} "
   ]
  },
  {
   "cell_type": "markdown",
   "metadata": {},
   "source": [
    "Tracking Workflow"
   ]
  },
  {
   "cell_type": "code",
   "execution_count": 167,
   "metadata": {},
   "outputs": [],
   "source": [
    "mask = \"%s/sub-%s/Niftii/Diffusion/Preprocess/sub-%s_iso_mask.nii.gz\" % (out, ID, ID)\n",
    "fa = \"%s/sub-%s/Niftii/Diffusion/sub-%s_FA.nii.gz\" % (out, ID, ID)\n",
    "pam = \"%s/sub-%s/Niftii/Diffusion/sub-%s_csd.pam5\" % (out, ID, ID)\n",
    "trk = \"%s/sub-%s/TRK/Tractography/sub-%s_1M_apss_noaff.trk\" % (out, ID, ID)"
   ]
  },
  {
   "cell_type": "code",
   "execution_count": 168,
   "metadata": {},
   "outputs": [],
   "source": [
    "det = '/Users/paolo/Software/miniconda3/pkgs/dipy-0.16.0-py37h917ab60_0/bin/dipy_track_local'"
   ]
  },
  {
   "cell_type": "code",
   "execution_count": 169,
   "metadata": {},
   "outputs": [
    {
     "name": "stdout",
     "output_type": "stream",
     "text": [
      "INFO:Local tracking on /Users/paolo/Datasets/APSS-ConnectBrain-2019/fixed_sub/sub-01/Niftii/Diffusion/sub-01_csd.pam5\n",
      "INFO:Deterministic direction getter strategy selected\n",
      "INFO:classifier done\n",
      "INFO:seeds done\n",
      "INFO:LocalTracking initiated\n",
      "INFO:Saved /Users/paolo/Datasets/APSS-ConnectBrain-2019/fixed_sub/sub-01/TRK/Tractography/sub-01_1M_apss_noaff.trk\n"
     ]
    }
   ],
   "source": [
    "!python {det} {pam} {fa} {fa} --out_tractogram {trk}"
   ]
  },
  {
   "cell_type": "markdown",
   "metadata": {},
   "source": [
    "Fix Tracking Workflow"
   ]
  },
  {
   "cell_type": "code",
   "execution_count": 297,
   "metadata": {},
   "outputs": [],
   "source": [
    "from nibabel.orientations import aff2axcodes\n",
    "from dipy.tracking.streamline import transform_streamlines"
   ]
  },
  {
   "cell_type": "code",
   "execution_count": 317,
   "metadata": {},
   "outputs": [],
   "source": [
    "fa = \"%s/sub-%s/Niftii/Diffusion/sub-%s_FA.nii.gz\" % (out, ID, ID)\n",
    "pam = \"%s/sub-%s/Niftii/Diffusion/sub-%s_csd.pam5\" % (out, ID, ID)\n",
    "trk_noaff = \"%s/sub-%s/TRK/Tractography/sub-%s_1M_apss_noaff.trk\" % (out, ID, ID)\n",
    "trk = \"%s/sub-%s/TRK/Tractography/sub-%s_1M_apss.trk\" % (out, ID, ID)"
   ]
  },
  {
   "cell_type": "code",
   "execution_count": 318,
   "metadata": {},
   "outputs": [],
   "source": [
    "img = nib.load(fa)\n",
    "header = nib.streamlines.trk.TrkFile.create_empty_header()\n",
    "header['voxel_to_rasmm'] = img.affine.copy()\n",
    "header['voxel_sizes'] = img.header.get_zooms()[:3]\n",
    "header['dimensions'] = img.shape[:3]\n",
    "header['voxel_order'] = \"\".join(aff2axcodes(img.affine))"
   ]
  },
  {
   "cell_type": "code",
   "execution_count": 319,
   "metadata": {},
   "outputs": [],
   "source": [
    "tract = nib.streamlines.load(trk_noaff)"
   ]
  },
  {
   "cell_type": "code",
   "execution_count": 320,
   "metadata": {},
   "outputs": [],
   "source": [
    "fix_streamlines = transform_streamlines(tract.streamlines, np.linalg.inv(img.affine))"
   ]
  },
  {
   "cell_type": "code",
   "execution_count": 321,
   "metadata": {},
   "outputs": [],
   "source": [
    "tractogram = nib.streamlines.Tractogram(fix_streamlines,affine_to_rasmm=img.affine)\n",
    "nib.streamlines.save(tractogram, trk, header=header)"
   ]
  },
  {
   "cell_type": "code",
   "execution_count": null,
   "metadata": {},
   "outputs": [],
   "source": []
  },
  {
   "cell_type": "markdown",
   "metadata": {},
   "source": [
    "DTI Tracking"
   ]
  },
  {
   "cell_type": "code",
   "execution_count": 326,
   "metadata": {},
   "outputs": [],
   "source": [
    "from dipy.direction import DeterministicMaximumDirectionGetter\n",
    "from dipy.tracking.local import (ThresholdTissueClassifier, LocalTracking)\n",
    "from dipy.tracking import utils"
   ]
  },
  {
   "cell_type": "code",
   "execution_count": 323,
   "metadata": {},
   "outputs": [],
   "source": [
    "fa = \"%s/sub-%s/Niftii/Diffusion/sub-%s_FA.nii.gz\" % (out, ID, ID)\n",
    "trk = \"%s/sub-%s/TRK/Tractography/sub-%s_1M_apss_test.trk\" % (out, ID, ID)"
   ]
  },
  {
   "cell_type": "code",
   "execution_count": null,
   "metadata": {},
   "outputs": [],
   "source": [
    "fa_img = nib.load(fa)"
   ]
  },
  {
   "cell_type": "code",
   "execution_count": null,
   "metadata": {},
   "outputs": [],
   "source": [
    "dg = DeterministicMaximumDirectionGetter.from_shcoeff(csd_fit.shm_coeff,\n",
    "                                                             max_angle=30.,\n",
    "                                                             sphere=default_sphere)"
   ]
  },
  {
   "cell_type": "code",
   "execution_count": null,
   "metadata": {},
   "outputs": [],
   "source": [
    "stop = fa_img.get_data()\n",
    "stopping_thr = 0.25\n",
    "classifier = ThresholdTissueClassifier(stop, stopping_thr)"
   ]
  },
  {
   "cell_type": "code",
   "execution_count": 325,
   "metadata": {},
   "outputs": [],
   "source": [
    "seed_mask = fa_img.get_data()\n",
    "seed_density = 1\n",
    "seeds = utils.seeds_from_mask(\n",
    "                seed_mask,\n",
    "                density=[seed_density, seed_density, seed_density],\n",
    "                affine=fa_img.affine)"
   ]
  },
  {
   "cell_type": "code",
   "execution_count": null,
   "metadata": {},
   "outputs": [],
   "source": [
    "streamlines = LocalTracking(dg, classifier, seeds, fa_img.affine, step_size=.5)"
   ]
  },
  {
   "cell_type": "code",
   "execution_count": null,
   "metadata": {},
   "outputs": [],
   "source": [
    "header = nib.streamlines.trk.TrkFile.create_empty_header()\n",
    "header['voxel_to_rasmm'] = fa_img.affine.copy()\n",
    "header['voxel_sizes'] = fa_img.header.get_zooms()[:3]\n",
    "header['dimensions'] = fa_img.shape[:3]\n",
    "header['voxel_order'] = \"\".join(aff2axcodes(fa_img.affine))"
   ]
  },
  {
   "cell_type": "code",
   "execution_count": null,
   "metadata": {},
   "outputs": [],
   "source": [
    "tractogram = nib.streamlines.Tractogram(streamlines,affine_to_rasmm=np.eye(4))\n",
    "nib.streamlines.save(tractogram, trk, header=header)"
   ]
  },
  {
   "cell_type": "code",
   "execution_count": null,
   "metadata": {},
   "outputs": [],
   "source": []
  },
  {
   "cell_type": "markdown",
   "metadata": {},
   "source": [
    "Convert Color FA for Trackvis"
   ]
  },
  {
   "cell_type": "code",
   "execution_count": 141,
   "metadata": {},
   "outputs": [],
   "source": [
    "def decfa(img_orig, scale=False):\n",
    "    \"\"\"\n",
    "    Create a nifti-compliant directional-encoded color FA image.\n",
    "    Parameters\n",
    "    ----------\n",
    "    img_orig : Nifti1Image class instance.\n",
    "        Contains encoding of the DEC FA image with a 4D volume of data, where\n",
    "        the elements on the last dimension represent R, G and B components.\n",
    "    scale: bool.\n",
    "        Whether to scale the incoming data from the 0-1 to the 0-255 range\n",
    "        expected in the output.\n",
    "    Returns\n",
    "    -------\n",
    "    img : Nifti1Image class instance with dtype set to store tuples of\n",
    "        uint8 in (R, G, B) order.\n",
    "    Notes\n",
    "    -----\n",
    "    For a description of this format, see:\n",
    "    https://nifti.nimh.nih.gov/nifti-1/documentation/nifti1fields/nifti1fields_pages/datatype.html\n",
    "    \"\"\"\n",
    "\n",
    "    dest_dtype = np.dtype([('R', 'uint8'), ('G', 'uint8'), ('B', 'uint8')])\n",
    "    out_data = np.zeros(img_orig.shape[:3], dtype=dest_dtype)\n",
    "\n",
    "    data_orig = img_orig.get_data()\n",
    "\n",
    "    if scale:\n",
    "        data_orig = (data_orig * 255).astype('uint8')\n",
    "\n",
    "    for ii in np.ndindex(img_orig.shape[:3]):\n",
    "        val = data_orig[ii]\n",
    "        out_data[ii] = (val[0], val[1], val[2])\n",
    "\n",
    "    new_hdr = img_orig.header\n",
    "    new_hdr['dim'][4] = 1\n",
    "    new_hdr.set_intent(1001, name='Color FA')\n",
    "    new_hdr.set_data_dtype(dest_dtype)\n",
    "    \n",
    "    return nib.Nifti1Image(out_data, affine=img_orig.affine, header=new_hdr)"
   ]
  },
  {
   "cell_type": "code",
   "execution_count": 180,
   "metadata": {},
   "outputs": [],
   "source": [
    "cfa_dpy = \"%s/sub-%s/Niftii/Diffusion/sub-%s_Color_FA_dpy.nii.gz\" % (out, ID, ID)\n",
    "cfa_trk = \"%s/sub-%s/Niftii/Diffusion/sub-%s_Color_FA_trk.nii.gz\" % (out, ID, ID)"
   ]
  },
  {
   "cell_type": "code",
   "execution_count": null,
   "metadata": {},
   "outputs": [],
   "source": [
    "img = nib.load(cfa_dpy)\n",
    "img_fix = decfa(img)\n",
    "nib.save(img_fix, cfa_trk)"
   ]
  },
  {
   "cell_type": "markdown",
   "metadata": {},
   "source": [
    "Cleaning tractogram"
   ]
  },
  {
   "cell_type": "code",
   "execution_count": 280,
   "metadata": {},
   "outputs": [],
   "source": [
    "trk = \"/Users/paolo/Downloads/slf_test.trk\" \n",
    "trk_clean = '/Users/paolo/Downloads/slf_clean.trk' \n",
    "trk_del = '/Users/paolo/Downloads/slf_del.trk'"
   ]
  },
  {
   "cell_type": "code",
   "execution_count": 281,
   "metadata": {},
   "outputs": [],
   "source": [
    "t_src = nib.streamlines.load(trk)\n",
    "t_del = nib.streamlines.load(trk_del)"
   ]
  },
  {
   "cell_type": "code",
   "execution_count": 286,
   "metadata": {},
   "outputs": [
    {
     "name": "stdout",
     "output_type": "stream",
     "text": [
      "DEL\n",
      "DEL\n",
      "DEL\n",
      "DEL\n",
      "DEL\n",
      "DEL\n",
      "DEL\n",
      "DEL\n",
      "DEL\n"
     ]
    }
   ],
   "source": [
    "s_clean = []\n",
    "for s_src in t_src.streamlines:\n",
    "    s_add = True\n",
    "    for s_del in t_del.streamlines:\n",
    "        if np.array_equiv(s_del, s_src):\n",
    "            s_add = False\n",
    "            print('DEL')\n",
    "            break\n",
    "    if s_add:\n",
    "        s_clean.append(s_src)"
   ]
  },
  {
   "cell_type": "code",
   "execution_count": 284,
   "metadata": {},
   "outputs": [],
   "source": [
    "t_clean = nib.streamlines.Tractogram(s_clean,affine_to_rasmm=np.eye(4))\n",
    "nib.streamlines.save(t_clean, trk_clean, header=t_src.header)"
   ]
  },
  {
   "cell_type": "code",
   "execution_count": 253,
   "metadata": {},
   "outputs": [
    {
     "data": {
      "text/plain": [
       "102180"
      ]
     },
     "execution_count": 253,
     "metadata": {},
     "output_type": "execute_result"
    }
   ],
   "source": [
    "len(s_clean)"
   ]
  },
  {
   "cell_type": "code",
   "execution_count": 250,
   "metadata": {},
   "outputs": [
    {
     "data": {
      "text/plain": [
       "102180"
      ]
     },
     "execution_count": 250,
     "metadata": {},
     "output_type": "execute_result"
    }
   ],
   "source": [
    "len(t_src.streamlines)"
   ]
  },
  {
   "cell_type": "code",
   "execution_count": 255,
   "metadata": {},
   "outputs": [
    {
     "data": {
      "text/plain": [
       "14"
      ]
     },
     "execution_count": 255,
     "metadata": {},
     "output_type": "execute_result"
    }
   ],
   "source": [
    "len(t_del.streamlines)"
   ]
  },
  {
   "cell_type": "code",
   "execution_count": 275,
   "metadata": {},
   "outputs": [],
   "source": [
    "a1 = np.array([[1,1],[2,2]])\n",
    "a2 = np.array([[1,0.9999999],[2,2]])"
   ]
  },
  {
   "cell_type": "code",
   "execution_count": 276,
   "metadata": {},
   "outputs": [
    {
     "data": {
      "text/plain": [
       "False"
      ]
     },
     "execution_count": 276,
     "metadata": {},
     "output_type": "execute_result"
    }
   ],
   "source": [
    "np.array_equiv(a1,a2)"
   ]
  },
  {
   "cell_type": "code",
   "execution_count": 273,
   "metadata": {},
   "outputs": [
    {
     "data": {
      "text/plain": [
       "True"
      ]
     },
     "execution_count": 273,
     "metadata": {},
     "output_type": "execute_result"
    }
   ],
   "source": [
    "(a1==a2).all()"
   ]
  },
  {
   "cell_type": "code",
   "execution_count": null,
   "metadata": {},
   "outputs": [],
   "source": []
  },
  {
   "cell_type": "markdown",
   "metadata": {},
   "source": [
    "Affine Registration"
   ]
  },
  {
   "cell_type": "code",
   "execution_count": 261,
   "metadata": {},
   "outputs": [],
   "source": [
    "from dipy.align.imaffine import (transform_centers_of_mass,\n",
    "                                 AffineMap,\n",
    "                                 MutualInformationMetric,\n",
    "                                 AffineRegistration)\n",
    "from dipy.align.transforms import (TranslationTransform3D,\n",
    "                                   RigidTransform3D,\n",
    "                                   AffineTransform3D)"
   ]
  },
  {
   "cell_type": "code",
   "execution_count": 262,
   "metadata": {},
   "outputs": [],
   "source": [
    "def affreg(data_A, aff_A, data_B, aff_B):\n",
    "\n",
    "    # Center of mass alignment\n",
    "    c_of_mass = transform_centers_of_mass(data_A, aff_A, data_B, aff_B)\n",
    "    \n",
    "    #data_B2A = c_of_mass.transform(data_B)\n",
    "    \n",
    "    # Affine registration: Translation Transformation\n",
    "\n",
    "    affreg = AffineRegistration()\n",
    "\n",
    "    # Affine registration: Translation Transformation\n",
    "\n",
    "    transform = TranslationTransform3D()\n",
    "    translation = affreg.optimize(data_A, data_B, transform, None,\n",
    "                                  aff_A, aff_B,\n",
    "                                  starting_affine=c_of_mass.affine)\n",
    "    #data_B2A = translation.transform(data_B)\n",
    "\n",
    "\n",
    "    # Affine registration: Rigid Transformation\n",
    "\n",
    "    transform = RigidTransform3D()\n",
    "    rigid = affreg.optimize(data_A, data_B, transform, None,\n",
    "                            aff_A, aff_B,\n",
    "                            starting_affine=translation.affine)\n",
    "    #data_B2A = rigid.transform(b0_mask_B)\n",
    "\n",
    "    # Affine registration: final step\n",
    "\n",
    "    transform = AffineTransform3D()\n",
    "    affine = affreg.optimize(data_A, data_B, transform, None,\n",
    "                             aff_A, aff_B,\n",
    "                             starting_affine=rigid.affine)\n",
    "    #b0_mask_B = affine.transform(b0_mask_B)\n",
    "    \n",
    "    return affine.transform(data_B), affine.affine"
   ]
  },
  {
   "cell_type": "code",
   "execution_count": 309,
   "metadata": {},
   "outputs": [],
   "source": [
    "fa_A = src + 'tmp/sub-01_FA.nii.gz'\n",
    "fa_B = src + '../sub-03/Niftii/Diffusion/Subject_21_CoNi_FA.nii.gz'\n",
    "fa_B2A = src + 'tmp/sub-01_FA_b2a.nii.gz'"
   ]
  },
  {
   "cell_type": "code",
   "execution_count": 310,
   "metadata": {},
   "outputs": [],
   "source": [
    "img_A =nib.load(fa_A)\n",
    "data_A = img_A.get_data()\n",
    "aff_A = img_A.affine\n",
    "\n",
    "img_B =nib.load(fa_B)\n",
    "data_B = img_B.get_data()\n",
    "aff_B = img_B.affine"
   ]
  },
  {
   "cell_type": "code",
   "execution_count": 311,
   "metadata": {},
   "outputs": [
    {
     "name": "stdout",
     "output_type": "stream",
     "text": [
      "Optimizing level 2 [max iter: 10000]\n",
      "Optimizing level 1 [max iter: 1000]\n",
      "Optimizing level 0 [max iter: 100]\n",
      "Optimizing level 2 [max iter: 10000]\n",
      "Optimizing level 1 [max iter: 1000]\n",
      "Optimizing level 0 [max iter: 100]\n",
      "Optimizing level 2 [max iter: 10000]\n",
      "Optimizing level 1 [max iter: 1000]\n",
      "Optimizing level 0 [max iter: 100]\n"
     ]
    }
   ],
   "source": [
    "data_B2A, aff_B2A = affreg(data_A, aff_A, data_B, aff_B)"
   ]
  },
  {
   "cell_type": "code",
   "execution_count": 324,
   "metadata": {},
   "outputs": [],
   "source": [
    "map_B2A = AffineMap(aff_B2A, data_A.shape, aff_A, data_B.shape, aff_B)\n",
    "data_test = map_B2A.transform(data_B)"
   ]
  },
  {
   "cell_type": "code",
   "execution_count": null,
   "metadata": {},
   "outputs": [],
   "source": [
    "import matplotlib.pyplot as plt\n",
    "from dipy.core.histeq import histeq\n",
    "\n",
    "data_A = nib.load(fa_A).get_data()\n",
    "sli = data_A.shape[2] // 2\n",
    "plt.figure('Registration')\n",
    "plt.subplot(1, 4, 1).set_axis_off()\n",
    "plt.imshow(histeq(data_A[:, :, sli].astype('float')).T,\n",
    "           cmap='gray', origin='lower')\n",
    "\n",
    "data_B = nib.load(fa_B).get_data()\n",
    "sli = data_B.shape[2] // 2\n",
    "plt.subplot(1, 4, 2).set_axis_off()\n",
    "plt.imshow(histeq(data_B[:, :, sli].astype('float')).T,\n",
    "           cmap='gray', origin='lower')\n",
    "\n",
    "sli = data_B2A.shape[2] // 2\n",
    "plt.subplot(1, 4, 3).set_axis_off()\n",
    "plt.imshow(histeq(data_B2A[:, :, sli].astype('float')).T,\n",
    "           cmap='gray', origin='lower')\n",
    "\n",
    "sli = data_test.shape[2] // 2\n",
    "plt.subplot(1, 4, 4).set_axis_off()\n",
    "plt.imshow(histeq(data_test[:, :, sli].astype('float')).T,\n",
    "           cmap='gray', origin='lower')"
   ]
  },
  {
   "cell_type": "markdown",
   "metadata": {},
   "source": [
    "___"
   ]
  },
  {
   "cell_type": "markdown",
   "metadata": {},
   "source": [
    "(uncomplete) Pipeline from scratch"
   ]
  },
  {
   "cell_type": "code",
   "execution_count": null,
   "metadata": {},
   "outputs": [],
   "source": [
    "dcm2nii_tmp = tmp + '/dcm2nii'\n",
    "!mkdir -p {tmp}\n",
    "!mkdir -p {dcm2nii_tmp}"
   ]
  },
  {
   "cell_type": "markdown",
   "metadata": {},
   "source": [
    "Convert Structural DICOM"
   ]
  },
  {
   "cell_type": "code",
   "execution_count": null,
   "metadata": {},
   "outputs": [],
   "source": [
    "!dcm2nii -d n -g y -s n -p n -o {dcm2nii_tmp} {dicom_struct} "
   ]
  },
  {
   "cell_type": "code",
   "execution_count": null,
   "metadata": {},
   "outputs": [],
   "source": [
    "T1_src = glob.glob(dcm2nii_tmp + '/co*.nii.gz')[0]\n",
    "T1_out = '%s/sub-%s_T1.nii.gz' % (nii_struct, ID)"
   ]
  },
  {
   "cell_type": "code",
   "execution_count": null,
   "metadata": {},
   "outputs": [],
   "source": [
    "!mv {T1_src} {T1_out}\n",
    "!rm {dcm2nii_tmp}/*"
   ]
  },
  {
   "cell_type": "markdown",
   "metadata": {},
   "source": [
    "Convert Diffusion DICOM"
   ]
  },
  {
   "cell_type": "code",
   "execution_count": null,
   "metadata": {},
   "outputs": [],
   "source": [
    "!dcm2nii -d n -g y -s n -p n -o {dcm2nii_tmp} {dicom_diff} "
   ]
  },
  {
   "cell_type": "code",
   "execution_count": null,
   "metadata": {},
   "outputs": [],
   "source": [
    "dwi_src = glob.glob(dcm2nii_tmp + '/*.nii.gz')[0]\n",
    "dwi_out = '%s/sub-%s_dwi.nii.gz' % (nii_diff, ID)\n",
    "bval_src = glob.glob(dcm2nii_tmp + '/*.bval')[0]\n",
    "bval_out = '%s/sub-%s_dwi.bval' % (nii_diff, ID)\n",
    "bvec_src = glob.glob(dcm2nii_tmp + '/*.bvec')[0]\n",
    "bvec_out = '%s/sub-%s_dwi.bvec' % (nii_diff, ID)"
   ]
  },
  {
   "cell_type": "code",
   "execution_count": null,
   "metadata": {},
   "outputs": [],
   "source": [
    "!mv {dwi_src} {dwi_out}\n",
    "!mv {bval_src} {bval_out}\n",
    "!mv {bvec_src} {bvec_out}"
   ]
  },
  {
   "cell_type": "markdown",
   "metadata": {},
   "source": [
    "Structural Brain Extraction"
   ]
  },
  {
   "cell_type": "code",
   "execution_count": null,
   "metadata": {},
   "outputs": [],
   "source": [
    "from deepbrain import Extractor"
   ]
  },
  {
   "cell_type": "code",
   "execution_count": null,
   "metadata": {},
   "outputs": [],
   "source": [
    "T1_src = '%s/sub-%s_T1.nii.gz' % (nii_struct, ID)\n",
    "T1_mask_out = '%s/sub-%s_T1_mask.nii.gz' % (nii_struct, ID)\n",
    "T1_brain_out = '%s/sub-%s_T1_brain.nii.gz' % (nii_struct, ID)"
   ]
  },
  {
   "cell_type": "code",
   "execution_count": null,
   "metadata": {},
   "outputs": [],
   "source": [
    "img = nib.load(T1_src)\n",
    "data = img.get_fdata()\n",
    "affine = img.affine\n",
    "\n",
    "ext = Extractor()\n",
    "prob = ext.run(data)\n",
    "mask = prob > 0.05\n",
    "brain = data[:]\n",
    "brain[~mask] = 0"
   ]
  },
  {
   "cell_type": "code",
   "execution_count": null,
   "metadata": {},
   "outputs": [],
   "source": [
    "img = nib.Nifti1Image(mask.astype(np.int), affine)\n",
    "nib.save(img, T1_mask_out)\n",
    "img = nib.Nifti1Image(brain, affine)\n",
    "nib.save(img, T1_brain_out)"
   ]
  },
  {
   "cell_type": "code",
   "execution_count": null,
   "metadata": {},
   "outputs": [],
   "source": [
    "import matplotlib.pyplot as plt\n",
    "from dipy.core.histeq import histeq\n",
    "\n",
    "sli = brain.shape[2] // 2\n",
    "plt.figure('Brain segmentation')\n",
    "plt.subplot(1, 2, 1).set_axis_off()\n",
    "plt.imshow(histeq(brain[:, :, sli].astype('float')).T,\n",
    "           cmap='gray', origin='lower')\n",
    "\n",
    "plt.subplot(1, 2, 2).set_axis_off()\n",
    "plt.imshow(histeq(mask[:, :, sli].astype('int')).T,\n",
    "           cmap='gray', origin='lower')"
   ]
  },
  {
   "cell_type": "code",
   "execution_count": null,
   "metadata": {},
   "outputs": [],
   "source": [
    "T1_src = '%s/sub-%s_T1.nii.gz' % (nii_struct, ID)\n",
    "T1_mask_out = '%s/sub-%s_T1_bet_mask.nii.gz' % (nii_struct, ID)\n",
    "T1_brain_out = '%s/sub-%s_T1_bet.nii.gz' % (nii_struct, ID)"
   ]
  },
  {
   "cell_type": "code",
   "execution_count": null,
   "metadata": {},
   "outputs": [],
   "source": [
    "!bet {T1_src} {T1_brain_out}  -F -f .2 -g 0"
   ]
  },
  {
   "cell_type": "code",
   "execution_count": null,
   "metadata": {},
   "outputs": [],
   "source": [
    "import matplotlib.pyplot as plt\n",
    "from dipy.core.histeq import histeq\n",
    "\n",
    "img = nib.load(T1_brain_out)\n",
    "bet = img.get_data()\n",
    "img = nib.load(T1_mask_out)\n",
    "mask = img.get_data()\n",
    "\n",
    "sli = bet.shape[2] // 2\n",
    "plt.figure('Brain segmentation')\n",
    "plt.subplot(1, 2, 1).set_axis_off()\n",
    "plt.imshow(histeq(bet[:, :, sli].astype('float')).T,\n",
    "           cmap='gray', origin='lower')\n",
    "\n",
    "plt.subplot(1, 2, 2).set_axis_off()\n",
    "plt.imshow(histeq(mask[:, :, sli].astype('int')).T,\n",
    "           cmap='gray', origin='lower')"
   ]
  },
  {
   "cell_type": "code",
   "execution_count": null,
   "metadata": {},
   "outputs": [],
   "source": []
  },
  {
   "cell_type": "markdown",
   "metadata": {},
   "source": [
    "Diffusion Brain Extraction"
   ]
  },
  {
   "cell_type": "code",
   "execution_count": null,
   "metadata": {},
   "outputs": [],
   "source": [
    "from dipy.segment.mask import median_otsu"
   ]
  },
  {
   "cell_type": "code",
   "execution_count": null,
   "metadata": {},
   "outputs": [],
   "source": [
    "dwi_src = '%s/sub-%s_dwi.nii.gz' % (nii_diff, ID)\n",
    "bval_src = '%s/sub-%s_dwi.bval' % (nii_diff, ID)\n",
    "bvec_src = '%s/sub-%s_dwi.bvec' % (nii_diff, ID)\n",
    "\n",
    "b0_out = '%s/sub-%s_b0.nii.gz'% (nii_diff, ID)\n",
    "dwi_mask_out = '%s/sub-%s_dwi_mask.nii.gz'% (nii_diff, ID)"
   ]
  },
  {
   "cell_type": "code",
   "execution_count": null,
   "metadata": {},
   "outputs": [],
   "source": [
    "img = nib.load(dwi_src)\n",
    "data = img.get_data()\n",
    "b0 = data[:,:,:,0]\n",
    "affine = img.affine"
   ]
  },
  {
   "cell_type": "code",
   "execution_count": null,
   "metadata": {},
   "outputs": [],
   "source": [
    "b0_mask, mask = median_otsu(b0, 2, 1)"
   ]
  },
  {
   "cell_type": "code",
   "execution_count": null,
   "metadata": {},
   "outputs": [],
   "source": [
    "mask_img = nib.Nifti1Image(mask.astype(np.float32), affine)\n",
    "b0_img = nib.Nifti1Image(b0_mask.astype(np.float32), affine)\n",
    "\n",
    "nib.save(mask_img, dwi_mask_out)\n",
    "nib.save(b0_img, b0_out)"
   ]
  },
  {
   "cell_type": "code",
   "execution_count": null,
   "metadata": {
    "scrolled": true
   },
   "outputs": [],
   "source": [
    "import matplotlib.pyplot as plt\n",
    "from dipy.core.histeq import histeq\n",
    "\n",
    "sli = b0.shape[2] // 2\n",
    "plt.figure('Brain segmentation')\n",
    "plt.subplot(1, 2, 1).set_axis_off()\n",
    "plt.imshow(histeq(b0[:, :, sli].astype('float')).T,\n",
    "           cmap='gray', origin='lower')\n",
    "\n",
    "plt.subplot(1, 2, 2).set_axis_off()\n",
    "plt.imshow(histeq(b0_mask[:, :, sli].astype('float')).T,\n",
    "           cmap='gray', origin='lower')\n",
    "\n",
    "#plt.savefig('median_otsu.png')"
   ]
  },
  {
   "cell_type": "markdown",
   "metadata": {},
   "source": [
    "Isotropic Diffusion"
   ]
  },
  {
   "cell_type": "code",
   "execution_count": null,
   "metadata": {},
   "outputs": [],
   "source": [
    "from dipy.align.reslice import reslice"
   ]
  },
  {
   "cell_type": "code",
   "execution_count": null,
   "metadata": {},
   "outputs": [],
   "source": [
    "dwi_src = '%s/sub-%s_dwi.nii.gz' % (nii_diff, ID)\n",
    "dwi_iso = '%s/sub-%s_dwi_iso.nii.gz' % (nii_diff, ID)\n",
    "\n",
    "img = nib.load(dwi_src)\n",
    "data = img.get_data()\n",
    "affine = img.affine\n",
    "size_src = img.header.get_zooms()[:3]\n",
    "size_iso = np.array([2.0, 2.0, 2.0])"
   ]
  },
  {
   "cell_type": "code",
   "execution_count": null,
   "metadata": {},
   "outputs": [],
   "source": [
    "data_iso, affine_iso = reslice(data, affine, size_src, size_iso)"
   ]
  },
  {
   "cell_type": "code",
   "execution_count": null,
   "metadata": {},
   "outputs": [],
   "source": [
    "img_iso = nib.Nifti1Image(data_iso, affine_iso)\n",
    "nib.save(img_iso, dwi_iso)"
   ]
  },
  {
   "cell_type": "code",
   "execution_count": null,
   "metadata": {},
   "outputs": [],
   "source": [
    "import matplotlib.pyplot as plt\n",
    "from dipy.core.histeq import histeq\n",
    "\n",
    "data = data[...,0]\n",
    "sli = data.shape[2] // 2\n",
    "plt.figure('Isotropic diffusion')\n",
    "plt.subplot(1, 2, 1).set_axis_off()\n",
    "plt.imshow(histeq(data[:, :, sli].astype('float')).T,\n",
    "           cmap='gray', origin='lower')\n",
    "\n",
    "data_iso = data_iso[...,0]\n",
    "sli = data_iso.shape[2] // 2\n",
    "plt.subplot(1, 2, 2).set_axis_off()\n",
    "plt.imshow(histeq(data_iso[:, :, sli].astype('float')).T,\n",
    "           cmap='gray', origin='lower')"
   ]
  },
  {
   "cell_type": "markdown",
   "metadata": {},
   "source": [
    "Denoise diffusion"
   ]
  },
  {
   "cell_type": "code",
   "execution_count": null,
   "metadata": {},
   "outputs": [],
   "source": [
    "from dipy.denoise.nlmeans import nlmeans\n",
    "from dipy.denoise.noise_estimate import estimate_sigma"
   ]
  },
  {
   "cell_type": "code",
   "execution_count": null,
   "metadata": {},
   "outputs": [],
   "source": [
    "dwi_src = '%s/sub-%s_dwi_iso.nii.gz' % (nii_diff, ID)\n",
    "dwi_mask = '%s/sub-%s_dwi_mask.nii.gz'% (nii_diff, ID)\n",
    "dwi_den = '%s/sub-%s_dwi_den.nii.gz' % (nii_diff, ID)\n",
    "bval_src = '%s/sub-%s_dwi.bval' % (nii_diff, ID)\n",
    "bvec_src = '%s/sub-%s_dwi.bvec' % (nii_diff, ID)"
   ]
  },
  {
   "cell_type": "code",
   "execution_count": null,
   "metadata": {},
   "outputs": [],
   "source": [
    "img = nib.load(dwi_src)\n",
    "data = img.get_data()\n",
    "affine = img.affine\n",
    "\n",
    "img = nib.load(dwi_mask)\n",
    "mask = img.get_data()"
   ]
  },
  {
   "cell_type": "code",
   "execution_count": null,
   "metadata": {},
   "outputs": [],
   "source": [
    "sigma = estimate_sigma(data, N=4)\n",
    "den = nlmeans(data, sigma=sigma, mask=mask, patch_radius= 1, block_radius = 1, rician= True)"
   ]
  },
  {
   "cell_type": "code",
   "execution_count": null,
   "metadata": {},
   "outputs": [],
   "source": [
    "img_den = nib.Nifti1Image(den, affine)\n",
    "nib.save(img_den, dwi_den)"
   ]
  },
  {
   "cell_type": "code",
   "execution_count": null,
   "metadata": {
    "scrolled": true
   },
   "outputs": [],
   "source": [
    "import matplotlib.pyplot as plt\n",
    "from dipy.core.histeq import histeq\n",
    "\n",
    "b0 = data[...,0]\n",
    "sli = b0.shape[2] // 2\n",
    "plt.figure('Isotropic diffusion')\n",
    "plt.subplot(1, 2, 1).set_axis_off()\n",
    "plt.imshow(histeq(b0[:, :, sli].astype('float')).T,\n",
    "           cmap='gray', origin='lower')\n",
    "\n",
    "b0_den = den[...,0]\n",
    "sli = b0_den.shape[2] // 2\n",
    "plt.subplot(1, 2, 2).set_axis_off()\n",
    "plt.imshow(histeq(b0_den[:, :, sli].astype('float')).T,\n",
    "           cmap='gray', origin='lower')"
   ]
  },
  {
   "cell_type": "code",
   "execution_count": null,
   "metadata": {},
   "outputs": [],
   "source": []
  },
  {
   "cell_type": "markdown",
   "metadata": {},
   "source": [
    "White Matter Mask"
   ]
  },
  {
   "cell_type": "code",
   "execution_count": null,
   "metadata": {},
   "outputs": [],
   "source": [
    "md = '%s/sub-%s_md.nii.gz' % (nii_diff, ID)\n",
    "fa = '%s/sub-%s_fa.nii.gz' % (nii_diff, ID)\n",
    "wm = '%s/sub-%s_wm.nii.gz' % (nii_diff, ID)"
   ]
  },
  {
   "cell_type": "code",
   "execution_count": null,
   "metadata": {},
   "outputs": [],
   "source": [
    "img = nib.load(md)\n",
    "MD = img.get_data()\n",
    "img = nib.load(fa)\n",
    "FA = img.get_data()\n",
    "affine = img.affine"
   ]
  },
  {
   "cell_type": "code",
   "execution_count": null,
   "metadata": {},
   "outputs": [],
   "source": [
    "WM = (np.logical_or(FA >= 0.4, (np.logical_and(FA >= 0.15, MD >= 0.0011))))\n",
    "WM = WM.astype('uint16')"
   ]
  },
  {
   "cell_type": "code",
   "execution_count": null,
   "metadata": {},
   "outputs": [],
   "source": [
    "img_wm = nib.Nifti1Image(WM, affine)\n",
    "nib.save(img_wm, wm)"
   ]
  },
  {
   "cell_type": "code",
   "execution_count": null,
   "metadata": {},
   "outputs": [],
   "source": [
    "import matplotlib.pyplot as plt\n",
    "from dipy.core.histeq import histeq\n",
    "\n",
    "sli = FA.shape[2] // 2\n",
    "plt.figure('Isotropic diffusion')\n",
    "plt.subplot(1, 2, 1).set_axis_off()\n",
    "plt.imshow(histeq(FA[:, :, sli].astype('float')).T,\n",
    "           cmap='gray', origin='lower')\n",
    "\n",
    "sli = WM.shape[2] // 2\n",
    "plt.subplot(1, 2, 2).set_axis_off()\n",
    "plt.imshow(histeq(WM[:, :, sli].astype('float')).T,\n",
    "           cmap='gray', origin='lower')"
   ]
  },
  {
   "cell_type": "code",
   "execution_count": null,
   "metadata": {},
   "outputs": [],
   "source": []
  },
  {
   "cell_type": "markdown",
   "metadata": {},
   "source": [
    "Registration of T1 to Diffusion"
   ]
  },
  {
   "cell_type": "code",
   "execution_count": null,
   "metadata": {},
   "outputs": [],
   "source": []
  },
  {
   "cell_type": "markdown",
   "metadata": {},
   "source": [
    "Registration of Atlas"
   ]
  },
  {
   "cell_type": "code",
   "execution_count": null,
   "metadata": {},
   "outputs": [],
   "source": []
  }
 ],
 "metadata": {
  "kernelspec": {
   "display_name": "Python 3",
   "language": "python",
   "name": "python3"
  },
  "language_info": {
   "codemirror_mode": {
    "name": "ipython",
    "version": 3
   },
   "file_extension": ".py",
   "mimetype": "text/x-python",
   "name": "python",
   "nbconvert_exporter": "python",
   "pygments_lexer": "ipython3",
   "version": "3.7.3"
  }
 },
 "nbformat": 4,
 "nbformat_minor": 2
}
